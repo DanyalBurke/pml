{
  "nbformat": 4,
  "nbformat_minor": 0,
  "metadata": {
    "kernelspec": {
      "display_name": "Python 3",
      "language": "python",
      "name": "python3"
    },
    "language_info": {
      "codemirror_mode": {
        "name": "ipython",
        "version": 3
      },
      "file_extension": ".py",
      "mimetype": "text/x-python",
      "name": "python",
      "nbconvert_exporter": "python",
      "pygments_lexer": "ipython3",
      "version": "3.6.5"
    },
    "colab": {
      "name": "001.ipynb",
      "provenance": []
    }
  },
  "cells": [
    {
      "cell_type": "markdown",
      "metadata": {
        "id": "EBjS9ZYr14mj"
      },
      "source": [
        "## Problem 1.1 Functions\n",
        "\n",
        "implement following simple functions"
      ]
    },
    {
      "cell_type": "code",
      "metadata": {
        "id": "cXJf36O614mk",
        "outputId": "c9519c64-bffd-4bbb-88fd-88960275afcc",
        "colab": {
          "base_uri": "https://localhost:8080/",
          "height": 68
        }
      },
      "source": [
        "def square(x):\n",
        "    return x * x\n",
        "\n",
        "def times2(x):\n",
        "    return x * 2\n",
        "\n",
        "def average(x1, x2, x3, x4, x5):\n",
        "    return (x1 + x2 + x3 + x4 + x5) / 5.0\n",
        "\n",
        "print(square(5))\n",
        "print(times2(5))\n",
        "print(average(1, 2, 3, 4, 5))"
      ],
      "execution_count": 1,
      "outputs": [
        {
          "output_type": "stream",
          "text": [
            "25\n",
            "10\n",
            "3.0\n"
          ],
          "name": "stdout"
        }
      ]
    }
  ]
}