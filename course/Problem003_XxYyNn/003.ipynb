{
 "cells": [
  {
   "cell_type": "markdown",
   "metadata": {},
   "source": [
    "# Load Boston Housing Dataset\n",
    "https://scikit-learn.org/stable/modules/generated/sklearn.datasets.load_boston.html#sklearn.datasets.load_boston"
   ]
  },
  {
   "cell_type": "code",
   "execution_count": 1,
   "metadata": {
    "scrolled": true
   },
   "outputs": [],
   "source": [
    "from sklearn.datasets import load_boston\n",
    "house_data = load_boston()"
   ]
  },
  {
   "cell_type": "code",
   "execution_count": 2,
   "metadata": {},
   "outputs": [
    {
     "name": "stdout",
     "output_type": "stream",
     "text": [
      "506\n"
     ]
    }
   ],
   "source": [
    "# How many houses are there (N)\n",
    "N = len(house_data.data)\n",
    "print(N)"
   ]
  },
  {
   "cell_type": "code",
   "execution_count": 3,
   "metadata": {},
   "outputs": [
    {
     "name": "stdout",
     "output_type": "stream",
     "text": [
      "13\n"
     ]
    }
   ],
   "source": [
    "# A house has how many attributes(or features or signals or dimensions or columns) (excluding the target)\n",
    "n = len(house_data.feature_names)\n",
    "print(n)\n",
    "\n",
    "# All attributes together make up a row (or input or x)"
   ]
  },
  {
   "cell_type": "code",
   "execution_count": 4,
   "metadata": {},
   "outputs": [
    {
     "name": "stdout",
     "output_type": "stream",
     "text": [
      "24.0\n"
     ]
    }
   ],
   "source": [
    "# Whats the Median value of the first house (target or label or output y)\n",
    "print(house_data.target[0])"
   ]
  },
  {
   "cell_type": "code",
   "execution_count": 5,
   "metadata": {},
   "outputs": [
    {
     "data": {
      "text/plain": [
       "6.03"
      ]
     },
     "execution_count": 5,
     "metadata": {},
     "output_type": "execute_result"
    }
   ],
   "source": [
    "# Whats the value of feature RM (average number of rooms per dwelling) for the last house\n",
    "house_data.data[-1][5]"
   ]
  },
  {
   "cell_type": "markdown",
   "metadata": {},
   "source": [
    "#### House 8 all features\n",
    "$\n",
    "\\begin{align}\n",
    "X^{8} \n",
    "\\end{align}\n",
    "$\n"
   ]
  },
  {
   "cell_type": "code",
   "execution_count": 6,
   "metadata": {},
   "outputs": [
    {
     "data": {
      "text/plain": [
       "array([2.1124e-01, 1.2500e+01, 7.8700e+00, 0.0000e+00, 5.2400e-01,\n",
       "       5.6310e+00, 1.0000e+02, 6.0821e+00, 5.0000e+00, 3.1100e+02,\n",
       "       1.5200e+01, 3.8663e+02, 2.9930e+01])"
      ]
     },
     "execution_count": 6,
     "metadata": {},
     "output_type": "execute_result"
    }
   ],
   "source": [
    "house_data.data[8]"
   ]
  },
  {
   "cell_type": "markdown",
   "metadata": {},
   "source": [
    "#### House 8,  feature 2\n",
    "(INDUS proportion of non-retail business acres per town)\n",
    "\n",
    "$\n",
    "\\begin{align}\n",
    "X_{2}^{8}\n",
    "\\end{align}\n",
    "$\n"
   ]
  },
  {
   "cell_type": "code",
   "execution_count": 7,
   "metadata": {},
   "outputs": [
    {
     "data": {
      "text/plain": [
       "7.87"
      ]
     },
     "execution_count": 7,
     "metadata": {},
     "output_type": "execute_result"
    }
   ],
   "source": [
    "house_data.data[8][2]"
   ]
  },
  {
   "cell_type": "markdown",
   "metadata": {},
   "source": [
    "#### All houses feature 4\n",
    "(NOX nitric oxides concentration)\n",
    "\n",
    "$\n",
    "\\begin{align}\n",
    "X_{4}\n",
    "\\end{align}\n",
    "$\n"
   ]
  },
  {
   "cell_type": "code",
   "execution_count": 8,
   "metadata": {},
   "outputs": [
    {
     "data": {
      "text/plain": [
       "array([0.538 , 0.469 , 0.469 , 0.458 , 0.458 , 0.458 , 0.524 , 0.524 ,\n",
       "       0.524 , 0.524 , 0.524 , 0.524 , 0.524 , 0.538 , 0.538 , 0.538 ,\n",
       "       0.538 , 0.538 , 0.538 , 0.538 , 0.538 , 0.538 , 0.538 , 0.538 ,\n",
       "       0.538 , 0.538 , 0.538 , 0.538 , 0.538 , 0.538 , 0.538 , 0.538 ,\n",
       "       0.538 , 0.538 , 0.538 , 0.499 , 0.499 , 0.499 , 0.499 , 0.428 ,\n",
       "       0.428 , 0.448 , 0.448 , 0.448 , 0.448 , 0.448 , 0.448 , 0.448 ,\n",
       "       0.448 , 0.448 , 0.439 , 0.439 , 0.439 , 0.439 , 0.41  , 0.403 ,\n",
       "       0.41  , 0.411 , 0.453 , 0.453 , 0.453 , 0.453 , 0.453 , 0.453 ,\n",
       "       0.4161, 0.398 , 0.398 , 0.409 , 0.409 , 0.409 , 0.413 , 0.413 ,\n",
       "       0.413 , 0.413 , 0.437 , 0.437 , 0.437 , 0.437 , 0.437 , 0.437 ,\n",
       "       0.426 , 0.426 , 0.426 , 0.426 , 0.449 , 0.449 , 0.449 , 0.449 ,\n",
       "       0.489 , 0.489 , 0.489 , 0.489 , 0.464 , 0.464 , 0.464 , 0.445 ,\n",
       "       0.445 , 0.445 , 0.445 , 0.445 , 0.52  , 0.52  , 0.52  , 0.52  ,\n",
       "       0.52  , 0.52  , 0.52  , 0.52  , 0.52  , 0.52  , 0.52  , 0.547 ,\n",
       "       0.547 , 0.547 , 0.547 , 0.547 , 0.547 , 0.547 , 0.547 , 0.547 ,\n",
       "       0.581 , 0.581 , 0.581 , 0.581 , 0.581 , 0.581 , 0.581 , 0.624 ,\n",
       "       0.624 , 0.624 , 0.624 , 0.624 , 0.624 , 0.624 , 0.624 , 0.624 ,\n",
       "       0.624 , 0.624 , 0.624 , 0.624 , 0.624 , 0.624 , 0.871 , 0.871 ,\n",
       "       0.871 , 0.871 , 0.871 , 0.871 , 0.871 , 0.871 , 0.871 , 0.871 ,\n",
       "       0.871 , 0.871 , 0.871 , 0.871 , 0.871 , 0.605 , 0.605 , 0.871 ,\n",
       "       0.605 , 0.605 , 0.605 , 0.605 , 0.605 , 0.605 , 0.605 , 0.605 ,\n",
       "       0.605 , 0.605 , 0.605 , 0.605 , 0.51  , 0.51  , 0.51  , 0.51  ,\n",
       "       0.51  , 0.51  , 0.51  , 0.488 , 0.488 , 0.488 , 0.488 , 0.488 ,\n",
       "       0.488 , 0.488 , 0.488 , 0.437 , 0.437 , 0.437 , 0.437 , 0.437 ,\n",
       "       0.437 , 0.401 , 0.401 , 0.422 , 0.404 , 0.404 , 0.404 , 0.403 ,\n",
       "       0.403 , 0.415 , 0.415 , 0.4161, 0.4161, 0.489 , 0.489 , 0.489 ,\n",
       "       0.489 , 0.489 , 0.489 , 0.489 , 0.489 , 0.489 , 0.489 , 0.489 ,\n",
       "       0.55  , 0.55  , 0.55  , 0.55  , 0.507 , 0.507 , 0.507 , 0.507 ,\n",
       "       0.504 , 0.504 , 0.504 , 0.504 , 0.504 , 0.504 , 0.504 , 0.504 ,\n",
       "       0.507 , 0.507 , 0.507 , 0.507 , 0.507 , 0.507 , 0.428 , 0.428 ,\n",
       "       0.428 , 0.428 , 0.428 , 0.428 , 0.431 , 0.431 , 0.431 , 0.431 ,\n",
       "       0.431 , 0.431 , 0.431 , 0.431 , 0.431 , 0.431 , 0.392 , 0.392 ,\n",
       "       0.394 , 0.647 , 0.647 , 0.647 , 0.647 , 0.647 , 0.647 , 0.647 ,\n",
       "       0.647 , 0.647 , 0.647 , 0.575 , 0.575 , 0.464 , 0.464 , 0.464 ,\n",
       "       0.464 , 0.464 , 0.447 , 0.447 , 0.447 , 0.447 , 0.447 , 0.4429,\n",
       "       0.4429, 0.4429, 0.4429, 0.401 , 0.4   , 0.389 , 0.385 , 0.405 ,\n",
       "       0.405 , 0.405 , 0.411 , 0.411 , 0.411 , 0.437 , 0.437 , 0.437 ,\n",
       "       0.437 , 0.437 , 0.4   , 0.4   , 0.4   , 0.433 , 0.433 , 0.433 ,\n",
       "       0.472 , 0.472 , 0.472 , 0.472 , 0.544 , 0.544 , 0.544 , 0.544 ,\n",
       "       0.544 , 0.544 , 0.544 , 0.544 , 0.544 , 0.544 , 0.544 , 0.544 ,\n",
       "       0.493 , 0.493 , 0.493 , 0.493 , 0.493 , 0.493 , 0.493 , 0.493 ,\n",
       "       0.46  , 0.46  , 0.46  , 0.4379, 0.4379, 0.515 , 0.515 , 0.515 ,\n",
       "       0.515 , 0.515 , 0.515 , 0.515 , 0.515 , 0.442 , 0.518 , 0.484 ,\n",
       "       0.484 , 0.442 , 0.442 , 0.429 , 0.435 , 0.429 , 0.429 , 0.411 ,\n",
       "       0.411 , 0.41  , 0.413 , 0.413 , 0.77  , 0.77  , 0.77  , 0.77  ,\n",
       "       0.77  , 0.77  , 0.77  , 0.77  , 0.718 , 0.718 , 0.718 , 0.631 ,\n",
       "       0.631 , 0.631 , 0.631 , 0.631 , 0.668 , 0.668 , 0.668 , 0.671 ,\n",
       "       0.671 , 0.671 , 0.671 , 0.671 , 0.671 , 0.671 , 0.7   , 0.7   ,\n",
       "       0.7   , 0.7   , 0.7   , 0.7   , 0.7   , 0.7   , 0.7   , 0.7   ,\n",
       "       0.7   , 0.693 , 0.693 , 0.693 , 0.693 , 0.693 , 0.693 , 0.693 ,\n",
       "       0.693 , 0.693 , 0.693 , 0.693 , 0.693 , 0.693 , 0.659 , 0.659 ,\n",
       "       0.597 , 0.597 , 0.597 , 0.597 , 0.597 , 0.597 , 0.693 , 0.679 ,\n",
       "       0.679 , 0.679 , 0.679 , 0.718 , 0.718 , 0.718 , 0.614 , 0.614 ,\n",
       "       0.584 , 0.679 , 0.584 , 0.679 , 0.679 , 0.679 , 0.584 , 0.584 ,\n",
       "       0.584 , 0.713 , 0.713 , 0.74  , 0.74  , 0.74  , 0.74  , 0.74  ,\n",
       "       0.74  , 0.74  , 0.74  , 0.74  , 0.74  , 0.74  , 0.74  , 0.74  ,\n",
       "       0.713 , 0.713 , 0.713 , 0.713 , 0.713 , 0.713 , 0.713 , 0.713 ,\n",
       "       0.713 , 0.713 , 0.713 , 0.713 , 0.713 , 0.713 , 0.713 , 0.713 ,\n",
       "       0.655 , 0.655 , 0.655 , 0.584 , 0.58  , 0.58  , 0.58  , 0.532 ,\n",
       "       0.58  , 0.614 , 0.584 , 0.584 , 0.614 , 0.614 , 0.614 , 0.614 ,\n",
       "       0.532 , 0.532 , 0.532 , 0.532 , 0.583 , 0.583 , 0.583 , 0.583 ,\n",
       "       0.609 , 0.609 , 0.609 , 0.609 , 0.609 , 0.585 , 0.585 , 0.585 ,\n",
       "       0.585 , 0.585 , 0.585 , 0.585 , 0.585 , 0.573 , 0.573 , 0.573 ,\n",
       "       0.573 , 0.573 ])"
      ]
     },
     "execution_count": 8,
     "metadata": {},
     "output_type": "execute_result"
    }
   ],
   "source": [
    "house_data.data[:,4]"
   ]
  },
  {
   "cell_type": "markdown",
   "metadata": {},
   "source": [
    "#### Target value for house 4\n",
    "$\n",
    "Y^{4}\n",
    "$\n"
   ]
  },
  {
   "cell_type": "code",
   "execution_count": 9,
   "metadata": {},
   "outputs": [
    {
     "data": {
      "text/plain": [
       "36.2"
      ]
     },
     "execution_count": 9,
     "metadata": {},
     "output_type": "execute_result"
    }
   ],
   "source": [
    "house_data.target[4]"
   ]
  },
  {
   "cell_type": "markdown",
   "metadata": {},
   "source": [
    "Small *x* and *y* are used to represent a *feature* and *target* of a single house\n",
    "#### Which among the following could be valid representation?\n",
    "$\n",
    "x^{4}\\:, \\: x_{2}\\:,\\:y^{4}\\:,\\:y_{2}\n",
    "$\n",
    "\n"
   ]
  },
  {
   "cell_type": "code",
   "execution_count": 10,
   "metadata": {},
   "outputs": [],
   "source": [
    "# the second one x_2 is valid, 2nd feature of house block x"
   ]
  }
 ],
 "metadata": {
  "kernelspec": {
   "display_name": "Python 3",
   "language": "python",
   "name": "python3"
  },
  "language_info": {
   "codemirror_mode": {
    "name": "ipython",
    "version": 3
   },
   "file_extension": ".py",
   "mimetype": "text/x-python",
   "name": "python",
   "nbconvert_exporter": "python",
   "pygments_lexer": "ipython3",
   "version": "3.8.5"
  }
 },
 "nbformat": 4,
 "nbformat_minor": 2
}
