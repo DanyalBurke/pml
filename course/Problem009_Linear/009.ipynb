{
 "cells": [
  {
   "cell_type": "markdown",
   "metadata": {},
   "source": [
    "## What does linear model do\n"
   ]
  },
  {
   "cell_type": "markdown",
   "metadata": {},
   "source": [
    "## 1-dimensional input (feature)"
   ]
  },
  {
   "cell_type": "code",
   "execution_count": 2,
   "metadata": {
    "scrolled": true
   },
   "outputs": [],
   "source": [
    "import numpy as np\n",
    "from sklearn import linear_model\n",
    "X_train = np.array([[1],[2],[3],[4]])\n",
    "Y_train = np.array([1,2,3,4])\n",
    "\n",
    "#TBD fit linear model and predict for x=7\n"
   ]
  },
  {
   "cell_type": "code",
   "execution_count": 4,
   "metadata": {},
   "outputs": [],
   "source": [
    "X_train = np.array([[1],[2],[3],[4]])\n",
    "Y_train = np.array([3,4,5,6])\n",
    "\n",
    "#TBD fit linear model and predict for x=7"
   ]
  },
  {
   "cell_type": "code",
   "execution_count": null,
   "metadata": {},
   "outputs": [],
   "source": [
    "X_train = np.array([[0],[0.1],[2],[2.1],[4],[4.1]])\n",
    "Y_train = np.array([0,2,1,3,2,4])\n",
    "\n",
    "#TBD fit linear model and predict for x=4\n"
   ]
  },
  {
   "cell_type": "code",
   "execution_count": 5,
   "metadata": {},
   "outputs": [],
   "source": [
    "#TBD Plot above 3 models"
   ]
  },
  {
   "cell_type": "markdown",
   "metadata": {},
   "source": [
    "## 2 dimensional input (features)"
   ]
  },
  {
   "cell_type": "code",
   "execution_count": 6,
   "metadata": {},
   "outputs": [],
   "source": [
    "from random import random, seed\n",
    "\n",
    "n = 50\n",
    "seed(1)                                     \n",
    "X_train = [[random(), random()] for i in range(n)]              \n",
    "Y_train = [random() for i in range(n)]\n",
    "\n",
    "#TBD fit linear model and predict for x=(7,8)"
   ]
  },
  {
   "cell_type": "code",
   "execution_count": 7,
   "metadata": {},
   "outputs": [],
   "source": [
    "#Plot above model"
   ]
  },
  {
   "cell_type": "markdown",
   "metadata": {},
   "source": [
    "## 13 dimensional input (features)"
   ]
  },
  {
   "cell_type": "code",
   "execution_count": 4,
   "metadata": {},
   "outputs": [],
   "source": [
    "from sklearn.datasets import load_boston\n",
    "house_data = load_boston()\n"
   ]
  },
  {
   "cell_type": "code",
   "execution_count": 7,
   "metadata": {},
   "outputs": [],
   "source": [
    "from sklearn.model_selection import train_test_split\n",
    "\n",
    "data_train, data_test, target_train, target_test = train_test_split(house_data.data, house_data.target, test_size=0.1)"
   ]
  },
  {
   "cell_type": "code",
   "execution_count": 8,
   "metadata": {},
   "outputs": [
    {
     "data": {
      "text/plain": [
       "LinearRegression()"
      ]
     },
     "execution_count": 8,
     "metadata": {},
     "output_type": "execute_result"
    }
   ],
   "source": [
    "from sklearn import linear_model\n",
    "model = linear_model.LinearRegression()\n",
    "model.fit(data_train, target_train)"
   ]
  },
  {
   "cell_type": "code",
   "execution_count": 9,
   "metadata": {},
   "outputs": [
    {
     "data": {
      "text/plain": [
       "array([30.50097121, 22.89275112, 35.28376875, 18.67037543, 27.73471423,\n",
       "       31.04490063, 36.72032432, 38.00371548, 37.58247181, 33.68666543,\n",
       "        3.34709004, 25.14940224, 24.68167256, 21.21016879, 12.08977557,\n",
       "       35.85510231, 13.89711455, 18.37553701, 37.09631393, 23.55820574,\n",
       "       36.64235041, 12.55032193, 25.38352251, 20.57299363, 24.26900824,\n",
       "       32.73138893, 24.11755048, 11.9640069 , 29.59779447, 22.10085974,\n",
       "       25.57330851, 15.86403611, 14.86178521, 25.73479933,  5.67240303,\n",
       "       24.20504199, 20.40157368, 21.28446903, 28.5308615 , 22.7025007 ,\n",
       "       13.49640598, 22.63555178, 26.80493693, 21.82383387, 27.20270035,\n",
       "       18.91749937, 18.42577502, 25.275261  , 20.2693334 , 23.16802152,\n",
       "       33.29375109])"
      ]
     },
     "execution_count": 9,
     "metadata": {},
     "output_type": "execute_result"
    }
   ],
   "source": [
    "target_predict = model.predict(data_test)"
   ]
  },
  {
   "cell_type": "code",
   "execution_count": 8,
   "metadata": {},
   "outputs": [],
   "source": [
    "from sklearn.metrics import mean_absolute_error, mean_squared_error\n",
    "\n",
    "mean_squared_error()"
   ]
  },
  {
   "cell_type": "markdown",
   "metadata": {},
   "source": [
    "## Problems with linear model\n",
    "![title](../../img/anscombe_quartet.png)\n",
    "\n",
    "### Ansombe Quartet \n",
    "### y = x/2 + 3"
   ]
  }
 ],
 "metadata": {
  "kernelspec": {
   "display_name": "Python 3",
   "language": "python",
   "name": "python3"
  },
  "language_info": {
   "codemirror_mode": {
    "name": "ipython",
    "version": 3
   },
   "file_extension": ".py",
   "mimetype": "text/x-python",
   "name": "python",
   "nbconvert_exporter": "python",
   "pygments_lexer": "ipython3",
   "version": "3.8.5"
  }
 },
 "nbformat": 4,
 "nbformat_minor": 2
}
