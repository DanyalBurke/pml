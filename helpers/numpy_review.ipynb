{
 "cells": [
  {
   "cell_type": "markdown",
   "metadata": {},
   "source": [
    "## Datatypes in python"
   ]
  },
  {
   "cell_type": "code",
   "execution_count": 7,
   "metadata": {},
   "outputs": [
    {
     "name": "stdout",
     "output_type": "stream",
     "text": [
      "<class 'float'>\n",
      "<class 'int'>\n",
      "<class 'str'>\n"
     ]
    }
   ],
   "source": [
    "a = 1.0\n",
    "b = 1\n",
    "c = 'aaaa'\n",
    "\n",
    "print(type(a))\n",
    "print(type(b))\n",
    "print(type(c))"
   ]
  },
  {
   "cell_type": "markdown",
   "metadata": {},
   "source": [
    "## `ndarray` and `dtype` in numpy"
   ]
  },
  {
   "cell_type": "code",
   "execution_count": 25,
   "metadata": {},
   "outputs": [
    {
     "name": "stdout",
     "output_type": "stream",
     "text": [
      "<class 'numpy.ndarray'>\n",
      "int64\n",
      "<class 'numpy.int64'>\n",
      "array([1, 2, 3, 4])\n",
      "array([4, 5, 6, 7], dtype=int16)\n"
     ]
    }
   ],
   "source": [
    "import numpy as np\n",
    "\n",
    "#a is a ndarray with dtype int64 \n",
    "a = np.array([1,2,3,4])\n",
    "print(type(a))\n",
    "print(a.dtype)\n",
    "print(type(a[0]))\n",
    "print(repr(a)) #printable representation of object\n",
    "\n",
    "#explicitly specifying the dtype\n",
    "a = np.array([4,5,6,7], dtype= np.int16)\n",
    "print(repr(a)) "
   ]
  },
  {
   "cell_type": "markdown",
   "metadata": {},
   "source": [
    "## Scalar, Vector, Matrix, Tensor (conceptually)\n"
   ]
  },
  {
   "cell_type": "code",
   "execution_count": 34,
   "metadata": {},
   "outputs": [
    {
     "name": "stdout",
     "output_type": "stream",
     "text": [
      "1\n",
      "1\n",
      "11\n",
      "111\n"
     ]
    }
   ],
   "source": [
    "#scalar\n",
    "s = 1\n",
    "\n",
    "#vector\n",
    "v = [1,2,3,4]\n",
    "\n",
    "#matrix \n",
    "m = [[11,12,13,14],[21,22,23,24],[31,32,33,34]]\n",
    "\n",
    "#tensor\n",
    "t = [[[111,112,113,1114],[121,122,123,124],[131,132,133,134]], [[211,212,213,2114],[221,222,223,224],[231,232,233,234]]]\n",
    "\n",
    "print(s)\n",
    "print(v[0])\n",
    "print(m[0][0])\n",
    "print(t[0][0][0])\n"
   ]
  },
  {
   "cell_type": "markdown",
   "metadata": {},
   "source": [
    "## Dimensions (or Shape)\n",
    "    1. scalar (1 X 1)\n",
    "    2. vector\n",
    "        a. row vector (r X 1)\n",
    "        b. column vector (1 X c)\n",
    "    3. matrix (r X c)\n",
    "    4. tensor (a X b X c ....)"
   ]
  },
  {
   "cell_type": "markdown",
   "metadata": {},
   "source": [
    "## Scalar, Vector, Matrix, Tensor (numpy)"
   ]
  },
  {
   "cell_type": "code",
   "execution_count": 58,
   "metadata": {},
   "outputs": [
    {
     "name": "stdout",
     "output_type": "stream",
     "text": [
      "<class 'numpy.ndarray'>\n",
      "24\n",
      "(1, 24)\n",
      "(24, 1)\n",
      "(6, 4)\n",
      "(2, 3, 4)\n",
      "(2, 2, 3, 2)\n",
      "(24,)\n"
     ]
    }
   ],
   "source": [
    "#Vector, Matrix, Tensor are just different arrangement of array of elements \n",
    "\n",
    "a = np.array([111,112,113,1114,121,122,123,124,131,132,133,134,211,212,213,2114,221,222,223,224,231,232,233,234])\n",
    "print(type(a))\n",
    "print(len(a))\n",
    "row_vector = np.reshape(a, (1,24))\n",
    "column_vector = np.reshape(a, (24,1))\n",
    "matrix = np.reshape(a, (6, 4))\n",
    "tensor1 = np.reshape(a, (2,3,4))\n",
    "tensor2 = np.reshape(a, (2,2,3,2))\n",
    "\n",
    "# print(repr(row_vector))\n",
    "# print(repr(column_vector))\n",
    "# print(repr(matrix))\n",
    "# print(repr(tensor1))\n",
    "# print(repr(tensor2))\n",
    "\n",
    "print(row_vector.shape)\n",
    "print(column_vector.shape)\n",
    "print(matrix.shape)\n",
    "print(tensor1.shape)\n",
    "print(tensor2.shape)\n"
   ]
  },
  {
   "cell_type": "markdown",
   "metadata": {},
   "source": [
    "## Numpy Array with Shape (n, ), (1,n) , (n,1)"
   ]
  },
  {
   "cell_type": "code",
   "execution_count": 69,
   "metadata": {},
   "outputs": [
    {
     "name": "stdout",
     "output_type": "stream",
     "text": [
      "(4,)\n",
      "(1, 4)\n",
      "(4, 1)\n",
      "3\n",
      "[1 2 3 4]\n",
      "3\n"
     ]
    }
   ],
   "source": [
    "a = np.array([1,2,3,4])\n",
    "print(a.shape)\n",
    "b = np.reshape(a, (1,4))\n",
    "print(b.shape)\n",
    "c = np.reshape(a, (4,1))\n",
    "print(c.shape)\n",
    "\n",
    "# (n,) is the shape telling that we need only one index to access the elements of `a`\n",
    "# this is default shape of ndarray. This can be reshaped into dimensions of our choice\n",
    "# reshaping does not cause any data movement, it just creates a view on top of the storage\n",
    "print(a[2])\n",
    "\n",
    "#for (1,n) shape we need 2 indices for element access, even though the data is in one axis\n",
    "print(b[0]) #acceses the whole row\n",
    "print(b[0][2]) #acceses 3rd element of the row\n"
   ]
  },
  {
   "cell_type": "code",
   "execution_count": 72,
   "metadata": {},
   "outputs": [
    {
     "name": "stdout",
     "output_type": "stream",
     "text": [
      "(4,)\n"
     ]
    }
   ],
   "source": [
    "print(a.shape)"
   ]
  },
  {
   "cell_type": "code",
   "execution_count": null,
   "metadata": {},
   "outputs": [],
   "source": []
  }
 ],
 "metadata": {
  "kernelspec": {
   "display_name": "Python 3",
   "language": "python",
   "name": "python3"
  },
  "language_info": {
   "codemirror_mode": {
    "name": "ipython",
    "version": 3
   },
   "file_extension": ".py",
   "mimetype": "text/x-python",
   "name": "python",
   "nbconvert_exporter": "python",
   "pygments_lexer": "ipython3",
   "version": "3.6.5"
  }
 },
 "nbformat": 4,
 "nbformat_minor": 2
}
