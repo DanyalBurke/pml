{
 "cells": [
  {
   "cell_type": "code",
   "execution_count": null,
   "metadata": {},
   "outputs": [],
   "source": [
    "import json\n",
    "import random\n",
    "\n",
    "def pick_winner(users):\n",
    "    s = sum([u[2] for u in users])\n",
    "    draw = random.randint(0,s)\n",
    "    #print(draw)\n",
    "    cumulative = 0 \n",
    "    for i, u in enumerate(users):\n",
    "        if  draw >= cumulative and draw < cumulative + u[2]:\n",
    "            return (i, u)\n",
    "        cumulative = cumulative + u[2]\n",
    "\n",
    "def put_on_spot():   \n",
    "    data = {}\n",
    "    with open('users.json', 'r') as f:\n",
    "        data = json.load(f)\n",
    "    users = data['users']\n",
    "    #print(data)\n",
    "    # Get the winner\n",
    "    i, winner = pick_winner(users)\n",
    "    #adjust the winner\n",
    "    users[i][1] = users[i][1] + 1\n",
    "    users[i][2] = int(100/users[i][1])\n",
    "    if users[i][2] == 0:\n",
    "        users[i][2] = 100\n",
    "\n",
    "    with open('users.json', 'w') as f:\n",
    "        data = json.dump(data, f)\n",
    "\n",
    "    print(winner[0])\n",
    "#     print(users)        \n",
    "    \n",
    "put_on_spot()"
   ]
  },
  {
   "cell_type": "code",
   "execution_count": null,
   "metadata": {},
   "outputs": [],
   "source": []
  },
  {
   "cell_type": "code",
   "execution_count": null,
   "metadata": {},
   "outputs": [],
   "source": []
  }
 ],
 "metadata": {
  "kernelspec": {
   "display_name": "Python 3",
   "language": "python",
   "name": "python3"
  },
  "language_info": {
   "codemirror_mode": {
    "name": "ipython",
    "version": 3
   },
   "file_extension": ".py",
   "mimetype": "text/x-python",
   "name": "python",
   "nbconvert_exporter": "python",
   "pygments_lexer": "ipython3",
   "version": "3.6.5"
  }
 },
 "nbformat": 4,
 "nbformat_minor": 2
}
