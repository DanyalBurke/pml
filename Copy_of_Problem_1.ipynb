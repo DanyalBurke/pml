{
  "nbformat": 4,
  "nbformat_minor": 0,
  "metadata": {
    "kernelspec": {
      "display_name": "Python 3",
      "language": "python",
      "name": "python3"
    },
    "language_info": {
      "codemirror_mode": {
        "name": "ipython",
        "version": 3
      },
      "file_extension": ".py",
      "mimetype": "text/x-python",
      "name": "python",
      "nbconvert_exporter": "python",
      "pygments_lexer": "ipython3",
      "version": "3.6.5"
    },
    "colab": {
      "name": "Copy of Problem_1.ipynb",
      "provenance": [],
      "include_colab_link": true
    }
  },
  "cells": [
    {
      "cell_type": "markdown",
      "metadata": {
        "id": "view-in-github",
        "colab_type": "text"
      },
      "source": [
        "<a href=\"https://colab.research.google.com/github/rawata/pml/blob/master/Copy_of_Problem_1.ipynb\" target=\"_parent\"><img src=\"https://colab.research.google.com/assets/colab-badge.svg\" alt=\"Open In Colab\"/></a>"
      ]
    },
    {
      "cell_type": "markdown",
      "metadata": {
        "id": "oYl8sTSnIDPw"
      },
      "source": [
        "## What is Linear Regression doing?\n",
        "What does it mean when we fit a linear model to a dataset?\n",
        "A linear model is fitted to the below random toy dataset. Instead of using sklearn `model.predict` use model's learned weights to predict the value for the test data. Check if its same as `model.predict` output"
      ]
    },
    {
      "cell_type": "code",
      "metadata": {
        "id": "0ek3tEAwIDPx",
        "outputId": "b55c0230-d594-4080-b49f-4c4698cf2b66"
      },
      "source": [
        "from sklearn import linear_model\n",
        "from random import random, seed\n",
        "\n",
        "n = 50\n",
        "seed(0)                                     \n",
        "X_train = [[random(), random(), random()] for i in range(n)]              \n",
        "Y_train = [random() for i in range(n)]\n",
        "\n",
        "X_test = [\n",
        "    [0.1, 0.1, 0.1],\n",
        "    [0.6, 0.6, 0.6]\n",
        "]\n",
        "\n",
        "model = linear_model.LinearRegression()\n",
        "model.fit(X_train, Y_train)\n",
        "\n",
        "\n",
        "def mypredict(X, coef, intercept):\n",
        "    '''\n",
        "    X - data for which predictions are to be made\n",
        "    coef - learned weights of the linear model, short for coeffecients\n",
        "    intercept - intercept or bias term of the linear model\n",
        "    '''\n",
        "    #TBD return predictions for the X using coeff and intercept\n",
        "    return [0 for _ in X] #Remove these dummy predictions\n",
        "\n",
        "intercept = model.intercept_\n",
        "coeffs = model.coef_\n",
        "\n",
        "# Expected predictions\n",
        "expected_predictions = model.predict(X_test).tolist()\n",
        "print(expected_predictions)\n",
        "#Your predictions\n",
        "my_predictions = mypredict(X_test, model.coef_, model.intercept_)\n",
        "print(my_predictions)\n",
        "print(my_predictions == expected_predictions) #This should print True for correct implementation of mypredict\n"
      ],
      "execution_count": null,
      "outputs": [
        {
          "output_type": "stream",
          "text": [
            "[0.4293420560631344, 0.47574747252950467]\n",
            "[0, 0]\n",
            "False\n"
          ],
          "name": "stdout"
        }
      ]
    },
    {
      "cell_type": "code",
      "metadata": {
        "id": "953IcN8iIDP1"
      },
      "source": [
        ""
      ],
      "execution_count": null,
      "outputs": []
    },
    {
      "cell_type": "code",
      "metadata": {
        "id": "Gaq3D3fhIDP4"
      },
      "source": [
        ""
      ],
      "execution_count": null,
      "outputs": []
    }
  ]
}