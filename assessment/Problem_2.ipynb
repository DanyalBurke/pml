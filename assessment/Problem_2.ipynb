{
 "cells": [
  {
   "cell_type": "markdown",
   "metadata": {},
   "source": [
    "## Clustering\n",
    "\n",
    "You have a list of 9 documents, belonging to 3 different categories.\n",
    "   1. Can you use a machine learning algorithm to categorize them in 3 categories\n",
    "   2. When you are given a new document, Can you ask your model to predict which category the document will fall in"
   ]
  },
  {
   "cell_type": "code",
   "execution_count": 5,
   "metadata": {},
   "outputs": [],
   "source": [
    "from random import shuffle\n",
    "\n",
    "doc0 = \"hello hello world \"\n",
    "doc1 = \"hello world world\"\n",
    "doc2 = \"hello world hello world\"\n",
    "doc3 = \"foo foo bar \"\n",
    "doc4 = \"foo bar bar\"\n",
    "doc5 = \"foo bar foo bar\"\n",
    "doc6 = \"lottery prize winner\"\n",
    "doc7 = \"lottery prize\"\n",
    "doc8 = \"lottery lottery lottery prize winner\"\n",
    "\n",
    "docs = [doc0, doc1, doc2, doc3, doc4, doc5, doc6, doc7, doc8]\n",
    "#Shuffle documents to break pattern in ordering \n",
    "shuffle(docs)\n",
    "# print(docs)\n",
    "\n",
    "#For these test document predict what category(cluster) they belong\n",
    "docs_test = [\n",
    "    \"hello hello\",\n",
    "    \"prize\",\n",
    "    \"winner\",\n",
    "    \"bar foo\"\n",
    "]\n"
   ]
  },
  {
   "cell_type": "markdown",
   "metadata": {},
   "source": [
    "## You might want to use [KMean Algorithm](https://scikit-learn.org/stable/modules/generated/sklearn.cluster.KMeans.html)"
   ]
  },
  {
   "cell_type": "markdown",
   "metadata": {},
   "source": [
    "## You also have to convert the text into feature vector before using a ML Algorithm"
   ]
  }
 ],
 "metadata": {
  "kernelspec": {
   "display_name": "Python 3",
   "language": "python",
   "name": "python3"
  },
  "language_info": {
   "codemirror_mode": {
    "name": "ipython",
    "version": 3
   },
   "file_extension": ".py",
   "mimetype": "text/x-python",
   "name": "python",
   "nbconvert_exporter": "python",
   "pygments_lexer": "ipython3",
   "version": "3.6.5"
  }
 },
 "nbformat": 4,
 "nbformat_minor": 2
}
